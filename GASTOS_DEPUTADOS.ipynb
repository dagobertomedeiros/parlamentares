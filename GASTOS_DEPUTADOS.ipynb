{
  "nbformat": 4,
  "nbformat_minor": 0,
  "metadata": {
    "colab": {
      "name": "GASTOS_DEPUTADOS.ipynb",
      "provenance": [],
      "authorship_tag": "ABX9TyPc/sAPpGVzyCPTjUnY6yni",
      "include_colab_link": true
    },
    "kernelspec": {
      "name": "python3",
      "display_name": "Python 3"
    }
  },
  "cells": [
    {
      "cell_type": "markdown",
      "metadata": {
        "id": "view-in-github",
        "colab_type": "text"
      },
      "source": [
        "<a href=\"https://colab.research.google.com/github/dagobertomedeiros/parlamentares/blob/main/GASTOS_DEPUTADOS.ipynb\" target=\"_parent\"><img src=\"https://colab.research.google.com/assets/colab-badge.svg\" alt=\"Open In Colab\"/></a>"
      ]
    },
    {
      "cell_type": "code",
      "metadata": {
        "id": "ReJxr6csXYlB"
      },
      "source": [
        "import pandas as pd\r\n",
        "import seaborn as sns\r\n",
        "import numpy as np"
      ],
      "execution_count": 1,
      "outputs": []
    },
    {
      "cell_type": "code",
      "metadata": {
        "colab": {
          "base_uri": "https://localhost:8080/"
        },
        "id": "F_6CwbWkgQ2C",
        "outputId": "61ae8ee8-59f8-45c9-f3ac-344543dfbddb"
      },
      "source": [
        "from google.colab import drive\r\n",
        "drive.mount('/content/gdrive')"
      ],
      "execution_count": 8,
      "outputs": [
        {
          "output_type": "stream",
          "text": [
            "Mounted at /content/gdrive\n"
          ],
          "name": "stdout"
        }
      ]
    },
    {
      "cell_type": "code",
      "metadata": {
        "id": "yZ-XYo2NgbQD"
      },
      "source": [
        "uri2008 = '/content/gdrive/My Drive/ARQUIVOS/Ano-2008.xlsx'\r\n",
        "uri2009 = '/content/gdrive/My Drive/ARQUIVOS/Ano-2009.xlsx'\r\n",
        "uri2010 = '/content/gdrive/My Drive/ARQUIVOS/Ano-2010.xlsx'\r\n",
        "uri2011 = '/content/gdrive/My Drive/ARQUIVOS/Ano-2011.xlsx'\r\n",
        "uri2012 = '/content/gdrive/My Drive/ARQUIVOS/Ano-2012.xlsx'\r\n",
        "uri2013 = '/content/gdrive/My Drive/ARQUIVOS/Ano-2013.xlsx'\r\n",
        "uri2014 = '/content/gdrive/My Drive/ARQUIVOS/Ano-2014.xlsx'\r\n",
        "uri2015 = '/content/gdrive/My Drive/ARQUIVOS/Ano-2015.xlsx'\r\n",
        "uri2016 = '/content/gdrive/My Drive/ARQUIVOS/Ano-2016.xlsx'\r\n",
        "uri2017 = '/content/gdrive/My Drive/ARQUIVOS/Ano-2017.xlsx'\r\n",
        "uri2018 = '/content/gdrive/My Drive/ARQUIVOS/Ano-2018.xlsx'\r\n",
        "uri2019 = '/content/gdrive/My Drive/ARQUIVOS/Ano-2019.xlsx'\r\n",
        "uri2020 = '/content/gdrive/My Drive/ARQUIVOS/Ano-2020.xlsx'\r\n",
        "uri2021 = '/content/gdrive/My Drive/ARQUIVOS/Ano-2021.xlsx'"
      ],
      "execution_count": 14,
      "outputs": []
    },
    {
      "cell_type": "code",
      "metadata": {
        "id": "CMzikd53hKdZ"
      },
      "source": [
        "df2008 = pd.read_excel(uri2008)"
      ],
      "execution_count": 17,
      "outputs": []
    },
    {
      "cell_type": "code",
      "metadata": {
        "id": "2fyluUCimPcq"
      },
      "source": [
        "df2009 = pd.read_excel(uri2009)"
      ],
      "execution_count": 18,
      "outputs": []
    },
    {
      "cell_type": "code",
      "metadata": {
        "id": "-CgDVvn1mPYL"
      },
      "source": [
        "df2010 = pd.read_excel(uri2010)"
      ],
      "execution_count": 19,
      "outputs": []
    },
    {
      "cell_type": "code",
      "metadata": {
        "id": "PNdvvx2BmPUm"
      },
      "source": [
        "df2011 = pd.read_excel(uri2011)"
      ],
      "execution_count": null,
      "outputs": []
    },
    {
      "cell_type": "code",
      "metadata": {
        "id": "Zw19mu6smPPU"
      },
      "source": [
        "df2012 = pd.read_excel(uri2012)"
      ],
      "execution_count": null,
      "outputs": []
    },
    {
      "cell_type": "code",
      "metadata": {
        "id": "DZTFnJgJmPHx"
      },
      "source": [
        "df2013 = pd.read_excel(uri2013)"
      ],
      "execution_count": null,
      "outputs": []
    },
    {
      "cell_type": "code",
      "metadata": {
        "id": "kpWxqAP7mO5y"
      },
      "source": [
        "df2014 = pd.read_excel(uri2014)"
      ],
      "execution_count": null,
      "outputs": []
    },
    {
      "cell_type": "code",
      "metadata": {
        "id": "fwhhKC0smOrq"
      },
      "source": [
        "df2015 = pd.read_excel(uri2015)"
      ],
      "execution_count": null,
      "outputs": []
    },
    {
      "cell_type": "code",
      "metadata": {
        "id": "_IiUr_IEm0ST"
      },
      "source": [
        "df2016 = pd.read_excel(uri2016)"
      ],
      "execution_count": null,
      "outputs": []
    },
    {
      "cell_type": "code",
      "metadata": {
        "id": "aV1hWbFzm0Dv"
      },
      "source": [
        "df2017 = pd.read_excel(uri2017)"
      ],
      "execution_count": null,
      "outputs": []
    },
    {
      "cell_type": "code",
      "metadata": {
        "id": "vs5AIHatmz_B"
      },
      "source": [
        "df2018 = pd.read_excel(uri2018)"
      ],
      "execution_count": null,
      "outputs": []
    },
    {
      "cell_type": "code",
      "metadata": {
        "id": "I4SH4oFimz6k"
      },
      "source": [
        "df2019 = pd.read_excel(uri2019)"
      ],
      "execution_count": null,
      "outputs": []
    },
    {
      "cell_type": "code",
      "metadata": {
        "id": "x6Wt0aLdmzym"
      },
      "source": [
        "df2020 = pd.read_excel(uri2020)"
      ],
      "execution_count": null,
      "outputs": []
    },
    {
      "cell_type": "code",
      "metadata": {
        "id": "42e4ldZtm7yY"
      },
      "source": [
        "df2021 = pd.read_excel(uri2021)"
      ],
      "execution_count": null,
      "outputs": []
    },
    {
      "cell_type": "code",
      "metadata": {
        "id": "u7XIkdRoipCh"
      },
      "source": [
        "df = pd.concat([df2008, df2009, df2010, df2011, df2012, df2013, df2014, df2015, df2016, df2017, df2018, df2019, df2020,df2021], ignore_index=True)"
      ],
      "execution_count": null,
      "outputs": []
    }
  ]
}