{
  "nbformat": 4,
  "nbformat_minor": 0,
  "metadata": {
    "colab": {
      "name": "GASTOS_DEPUTADOS.ipynb",
      "provenance": [],
      "authorship_tag": "ABX9TyO4dl3wMtJ9S2VOH/NWeQNK",
      "include_colab_link": true
    },
    "kernelspec": {
      "name": "python3",
      "display_name": "Python 3"
    }
  },
  "cells": [
    {
      "cell_type": "markdown",
      "metadata": {
        "id": "view-in-github",
        "colab_type": "text"
      },
      "source": [
        "<a href=\"https://colab.research.google.com/github/dagobertomedeiros/parlamentares/blob/main/GASTOS_DEPUTADOS.ipynb\" target=\"_parent\"><img src=\"https://colab.research.google.com/assets/colab-badge.svg\" alt=\"Open In Colab\"/></a>"
      ]
    },
    {
      "cell_type": "code",
      "metadata": {
        "id": "ReJxr6csXYlB"
      },
      "source": [
        "import pandas as pd\r\n",
        "import seaborn as sns\r\n",
        "import numpy as np"
      ],
      "execution_count": 1,
      "outputs": []
    },
    {
      "cell_type": "code",
      "metadata": {
        "colab": {
          "base_uri": "https://localhost:8080/"
        },
        "id": "F_6CwbWkgQ2C",
        "outputId": "01fcf6a4-4e4a-4c30-fd23-90330b44c143"
      },
      "source": [
        "from google.colab import drive\r\n",
        "drive.mount('/content/gdrive')"
      ],
      "execution_count": 2,
      "outputs": [
        {
          "output_type": "stream",
          "text": [
            "Mounted at /content/gdrive\n"
          ],
          "name": "stdout"
        }
      ]
    },
    {
      "cell_type": "code",
      "metadata": {
        "id": "yZ-XYo2NgbQD"
      },
      "source": [
        "uri2008 = '/content/gdrive/My Drive/ARQUIVOS/Ano-2008.xlsx'\r\n",
        "uri2009 = '/content/gdrive/My Drive/ARQUIVOS/Ano-2009.xlsx'\r\n",
        "uri2010 = '/content/gdrive/My Drive/ARQUIVOS/Ano-2010.xlsx'\r\n",
        "uri2011 = '/content/gdrive/My Drive/ARQUIVOS/Ano-2011.xlsx'\r\n",
        "uri2012 = '/content/gdrive/My Drive/ARQUIVOS/Ano-2012.xlsx'\r\n",
        "uri2013 = '/content/gdrive/My Drive/ARQUIVOS/Ano-2013.xlsx'\r\n",
        "uri2014 = '/content/gdrive/My Drive/ARQUIVOS/Ano-2014.xlsx'\r\n",
        "uri2015 = '/content/gdrive/My Drive/ARQUIVOS/Ano-2015.xlsx'\r\n",
        "uri2016 = '/content/gdrive/My Drive/ARQUIVOS/Ano-2016.xlsx'\r\n",
        "uri2017 = '/content/gdrive/My Drive/ARQUIVOS/Ano-2017.xlsx'\r\n",
        "uri2018 = '/content/gdrive/My Drive/ARQUIVOS/Ano-2018.xlsx'\r\n",
        "uri2019 = '/content/gdrive/My Drive/ARQUIVOS/Ano-2019.xlsx'\r\n",
        "uri2020 = '/content/gdrive/My Drive/ARQUIVOS/Ano-2020.xlsx'\r\n",
        "uri2021 = '/content/gdrive/My Drive/ARQUIVOS/Ano-2021.xlsx'"
      ],
      "execution_count": 3,
      "outputs": []
    },
    {
      "cell_type": "code",
      "metadata": {
        "id": "CMzikd53hKdZ",
        "outputId": "ae73630c-0d11-422f-d272-2297ff3108f4",
        "colab": {
          "base_uri": "https://localhost:8080/",
          "height": 272
        }
      },
      "source": [
        "df2008 = pd.read_excel(uri2008)"
      ],
      "execution_count": 40,
      "outputs": [
        {
          "output_type": "error",
          "ename": "TypeError",
          "evalue": "ignored",
          "traceback": [
            "\u001b[0;31m---------------------------------------------------------------------------\u001b[0m",
            "\u001b[0;31mTypeError\u001b[0m                                 Traceback (most recent call last)",
            "\u001b[0;32m<ipython-input-40-022d1c539f5a>\u001b[0m in \u001b[0;36m<module>\u001b[0;34m()\u001b[0m\n\u001b[0;32m----> 1\u001b[0;31m \u001b[0mdf2008\u001b[0m \u001b[0;34m=\u001b[0m \u001b[0mpd\u001b[0m\u001b[0;34m.\u001b[0m\u001b[0mread_excel\u001b[0m\u001b[0;34m(\u001b[0m\u001b[0muri2008\u001b[0m\u001b[0;34m,\u001b[0m \u001b[0mdecimal\u001b[0m \u001b[0;34m=\u001b[0m \u001b[0;34m\",\"\u001b[0m\u001b[0;34m)\u001b[0m\u001b[0;34m\u001b[0m\u001b[0;34m\u001b[0m\u001b[0m\n\u001b[0m",
            "\u001b[0;32m/usr/local/lib/python3.7/dist-packages/pandas/util/_decorators.py\u001b[0m in \u001b[0;36mwrapper\u001b[0;34m(*args, **kwargs)\u001b[0m\n\u001b[1;32m    294\u001b[0m                 )\n\u001b[1;32m    295\u001b[0m                 \u001b[0mwarnings\u001b[0m\u001b[0;34m.\u001b[0m\u001b[0mwarn\u001b[0m\u001b[0;34m(\u001b[0m\u001b[0mmsg\u001b[0m\u001b[0;34m,\u001b[0m \u001b[0mFutureWarning\u001b[0m\u001b[0;34m,\u001b[0m \u001b[0mstacklevel\u001b[0m\u001b[0;34m=\u001b[0m\u001b[0mstacklevel\u001b[0m\u001b[0;34m)\u001b[0m\u001b[0;34m\u001b[0m\u001b[0;34m\u001b[0m\u001b[0m\n\u001b[0;32m--> 296\u001b[0;31m             \u001b[0;32mreturn\u001b[0m \u001b[0mfunc\u001b[0m\u001b[0;34m(\u001b[0m\u001b[0;34m*\u001b[0m\u001b[0margs\u001b[0m\u001b[0;34m,\u001b[0m \u001b[0;34m**\u001b[0m\u001b[0mkwargs\u001b[0m\u001b[0;34m)\u001b[0m\u001b[0;34m\u001b[0m\u001b[0;34m\u001b[0m\u001b[0m\n\u001b[0m\u001b[1;32m    297\u001b[0m \u001b[0;34m\u001b[0m\u001b[0m\n\u001b[1;32m    298\u001b[0m         \u001b[0;32mreturn\u001b[0m \u001b[0mwrapper\u001b[0m\u001b[0;34m\u001b[0m\u001b[0;34m\u001b[0m\u001b[0m\n",
            "\u001b[0;31mTypeError\u001b[0m: read_excel() got an unexpected keyword argument 'decimal'"
          ]
        }
      ]
    },
    {
      "cell_type": "code",
      "metadata": {
        "id": "2fyluUCimPcq"
      },
      "source": [
        "df2009 = pd.read_excel(uri2009)"
      ],
      "execution_count": 5,
      "outputs": []
    },
    {
      "cell_type": "code",
      "metadata": {
        "id": "-CgDVvn1mPYL"
      },
      "source": [
        "df2010 = pd.read_excel(uri2010)"
      ],
      "execution_count": 6,
      "outputs": []
    },
    {
      "cell_type": "code",
      "metadata": {
        "id": "PNdvvx2BmPUm"
      },
      "source": [
        "df2011 = pd.read_excel(uri2011)"
      ],
      "execution_count": 7,
      "outputs": []
    },
    {
      "cell_type": "code",
      "metadata": {
        "id": "Zw19mu6smPPU"
      },
      "source": [
        "df2012 = pd.read_excel(uri2012)"
      ],
      "execution_count": 8,
      "outputs": []
    },
    {
      "cell_type": "code",
      "metadata": {
        "id": "DZTFnJgJmPHx"
      },
      "source": [
        "df2013 = pd.read_excel(uri2013)"
      ],
      "execution_count": 9,
      "outputs": []
    },
    {
      "cell_type": "code",
      "metadata": {
        "id": "kpWxqAP7mO5y"
      },
      "source": [
        "df2014 = pd.read_excel(uri2014)"
      ],
      "execution_count": 10,
      "outputs": []
    },
    {
      "cell_type": "code",
      "metadata": {
        "id": "fwhhKC0smOrq"
      },
      "source": [
        "df2015 = pd.read_excel(uri2015)"
      ],
      "execution_count": 11,
      "outputs": []
    },
    {
      "cell_type": "code",
      "metadata": {
        "id": "_IiUr_IEm0ST"
      },
      "source": [
        "df2016 = pd.read_excel(uri2016)"
      ],
      "execution_count": 12,
      "outputs": []
    },
    {
      "cell_type": "code",
      "metadata": {
        "id": "aV1hWbFzm0Dv"
      },
      "source": [
        "df2017 = pd.read_excel(uri2017)"
      ],
      "execution_count": 13,
      "outputs": []
    },
    {
      "cell_type": "code",
      "metadata": {
        "id": "vs5AIHatmz_B"
      },
      "source": [
        "df2018 = pd.read_excel(uri2018)"
      ],
      "execution_count": 14,
      "outputs": []
    },
    {
      "cell_type": "code",
      "metadata": {
        "id": "I4SH4oFimz6k"
      },
      "source": [
        "df2019 = pd.read_excel(uri2019)"
      ],
      "execution_count": 15,
      "outputs": []
    },
    {
      "cell_type": "code",
      "metadata": {
        "id": "x6Wt0aLdmzym"
      },
      "source": [
        "df2020 = pd.read_excel(uri2020)"
      ],
      "execution_count": 16,
      "outputs": []
    },
    {
      "cell_type": "code",
      "metadata": {
        "id": "42e4ldZtm7yY"
      },
      "source": [
        "df2021 = pd.read_excel(uri2021)"
      ],
      "execution_count": 17,
      "outputs": []
    },
    {
      "cell_type": "code",
      "metadata": {
        "id": "u7XIkdRoipCh",
        "outputId": "46bd2df3-edb0-4488-d3dd-8ffe629e357a",
        "colab": {
          "base_uri": "https://localhost:8080/",
          "height": 158
        }
      },
      "source": [
        "df = pd.concat([df2008, df2009, df2010, df2011, df2012, df2013, df2014, df2015, df2016, df2017, df2018, df2019, df2020,df2021], ignore_index=True)"
      ],
      "execution_count": 39,
      "outputs": [
        {
          "output_type": "error",
          "ename": "TypeError",
          "evalue": "ignored",
          "traceback": [
            "\u001b[0;31m---------------------------------------------------------------------------\u001b[0m",
            "\u001b[0;31mTypeError\u001b[0m                                 Traceback (most recent call last)",
            "\u001b[0;32m<ipython-input-39-6cfe31ca471d>\u001b[0m in \u001b[0;36m<module>\u001b[0;34m()\u001b[0m\n\u001b[0;32m----> 1\u001b[0;31m \u001b[0mdf\u001b[0m \u001b[0;34m=\u001b[0m \u001b[0mpd\u001b[0m\u001b[0;34m.\u001b[0m\u001b[0mconcat\u001b[0m\u001b[0;34m(\u001b[0m\u001b[0;34m[\u001b[0m\u001b[0mdf2008\u001b[0m\u001b[0;34m,\u001b[0m \u001b[0mdf2009\u001b[0m\u001b[0;34m,\u001b[0m \u001b[0mdf2010\u001b[0m\u001b[0;34m,\u001b[0m \u001b[0mdf2011\u001b[0m\u001b[0;34m,\u001b[0m \u001b[0mdf2012\u001b[0m\u001b[0;34m,\u001b[0m \u001b[0mdf2013\u001b[0m\u001b[0;34m,\u001b[0m \u001b[0mdf2014\u001b[0m\u001b[0;34m,\u001b[0m \u001b[0mdf2015\u001b[0m\u001b[0;34m,\u001b[0m \u001b[0mdf2016\u001b[0m\u001b[0;34m,\u001b[0m \u001b[0mdf2017\u001b[0m\u001b[0;34m,\u001b[0m \u001b[0mdf2018\u001b[0m\u001b[0;34m,\u001b[0m \u001b[0mdf2019\u001b[0m\u001b[0;34m,\u001b[0m \u001b[0mdf2020\u001b[0m\u001b[0;34m,\u001b[0m\u001b[0mdf2021\u001b[0m\u001b[0;34m]\u001b[0m\u001b[0;34m,\u001b[0m \u001b[0mignore_index\u001b[0m\u001b[0;34m=\u001b[0m\u001b[0;32mTrue\u001b[0m\u001b[0;34m,\u001b[0m \u001b[0mdecimal\u001b[0m \u001b[0;34m=\u001b[0m \u001b[0;34m\",\"\u001b[0m\u001b[0;34m)\u001b[0m\u001b[0;34m\u001b[0m\u001b[0;34m\u001b[0m\u001b[0m\n\u001b[0m",
            "\u001b[0;31mTypeError\u001b[0m: concat() got an unexpected keyword argument 'decimal'"
          ]
        }
      ]
    },
    {
      "cell_type": "code",
      "metadata": {
        "id": "iQ5A-V-S4smd",
        "outputId": "96caf7b4-d25d-465e-c177-6312d509a195",
        "colab": {
          "base_uri": "https://localhost:8080/",
          "height": 357
        }
      },
      "source": [
        "df.head()"
      ],
      "execution_count": 20,
      "outputs": [
        {
          "output_type": "execute_result",
          "data": {
            "text/html": [
              "<div>\n",
              "<style scoped>\n",
              "    .dataframe tbody tr th:only-of-type {\n",
              "        vertical-align: middle;\n",
              "    }\n",
              "\n",
              "    .dataframe tbody tr th {\n",
              "        vertical-align: top;\n",
              "    }\n",
              "\n",
              "    .dataframe thead th {\n",
              "        text-align: right;\n",
              "    }\n",
              "</style>\n",
              "<table border=\"1\" class=\"dataframe\">\n",
              "  <thead>\n",
              "    <tr style=\"text-align: right;\">\n",
              "      <th></th>\n",
              "      <th>txNomeParlamentar</th>\n",
              "      <th>cpf</th>\n",
              "      <th>ideCadastro</th>\n",
              "      <th>nuCarteiraParlamentar</th>\n",
              "      <th>nuLegislatura</th>\n",
              "      <th>sgUF</th>\n",
              "      <th>sgPartido</th>\n",
              "      <th>codLegislatura</th>\n",
              "      <th>numSubCota</th>\n",
              "      <th>txtDescricao</th>\n",
              "      <th>numEspecificacaoSubCota</th>\n",
              "      <th>txtDescricaoEspecificacao</th>\n",
              "      <th>txtFornecedor</th>\n",
              "      <th>txtCNPJCPF</th>\n",
              "      <th>txtNumero</th>\n",
              "      <th>indTipoDocumento</th>\n",
              "      <th>datEmissao</th>\n",
              "      <th>vlrDocumento</th>\n",
              "      <th>vlrGlosa</th>\n",
              "      <th>vlrLiquido</th>\n",
              "      <th>numMes</th>\n",
              "      <th>numAno</th>\n",
              "      <th>numParcela</th>\n",
              "      <th>txtPassageiro</th>\n",
              "      <th>txtTrecho</th>\n",
              "      <th>numLote</th>\n",
              "      <th>numRessarcimento</th>\n",
              "      <th>vlrRestituicao</th>\n",
              "      <th>nuDeputadoId</th>\n",
              "      <th>ideDocumento</th>\n",
              "      <th>urlDocumento</th>\n",
              "    </tr>\n",
              "  </thead>\n",
              "  <tbody>\n",
              "    <tr>\n",
              "      <th>0</th>\n",
              "      <td>JOSEPH BANDEIRA</td>\n",
              "      <td>7.251603e+09</td>\n",
              "      <td>4929.0</td>\n",
              "      <td>565.0</td>\n",
              "      <td>2007</td>\n",
              "      <td>BA</td>\n",
              "      <td>PT</td>\n",
              "      <td>53</td>\n",
              "      <td>2</td>\n",
              "      <td>LOCOMOÇÃO, ALIMENTAÇÃO E  HOSPEDAGEM</td>\n",
              "      <td>0</td>\n",
              "      <td>NaN</td>\n",
              "      <td>NACIONAL TRANSPORTES E LOGISTICA</td>\n",
              "      <td>071.414.740/0010-0</td>\n",
              "      <td>01029</td>\n",
              "      <td>0</td>\n",
              "      <td>2009-06-18T00:00:00</td>\n",
              "      <td>3800.00</td>\n",
              "      <td>0.0</td>\n",
              "      <td>3800.00</td>\n",
              "      <td>6</td>\n",
              "      <td>2008</td>\n",
              "      <td>0</td>\n",
              "      <td>NaN</td>\n",
              "      <td>NaN</td>\n",
              "      <td>405260</td>\n",
              "      <td>NaN</td>\n",
              "      <td>NaN</td>\n",
              "      <td>1970</td>\n",
              "      <td>1612380</td>\n",
              "      <td>NaN</td>\n",
              "    </tr>\n",
              "    <tr>\n",
              "      <th>1</th>\n",
              "      <td>JOSEPH BANDEIRA</td>\n",
              "      <td>7.251603e+09</td>\n",
              "      <td>4929.0</td>\n",
              "      <td>565.0</td>\n",
              "      <td>2007</td>\n",
              "      <td>BA</td>\n",
              "      <td>PT</td>\n",
              "      <td>53</td>\n",
              "      <td>2</td>\n",
              "      <td>LOCOMOÇÃO, ALIMENTAÇÃO E  HOSPEDAGEM</td>\n",
              "      <td>0</td>\n",
              "      <td>NaN</td>\n",
              "      <td>NTL - NACIONAL TRANSPORTES E LOGISTICA</td>\n",
              "      <td>071.414.740/0010-0</td>\n",
              "      <td>00954</td>\n",
              "      <td>0</td>\n",
              "      <td>2009-03-30T00:00:00</td>\n",
              "      <td>6000.00</td>\n",
              "      <td>0.0</td>\n",
              "      <td>6000.00</td>\n",
              "      <td>9</td>\n",
              "      <td>2008</td>\n",
              "      <td>0</td>\n",
              "      <td>NaN</td>\n",
              "      <td>NaN</td>\n",
              "      <td>387830</td>\n",
              "      <td>NaN</td>\n",
              "      <td>NaN</td>\n",
              "      <td>1970</td>\n",
              "      <td>1561354</td>\n",
              "      <td>NaN</td>\n",
              "    </tr>\n",
              "    <tr>\n",
              "      <th>2</th>\n",
              "      <td>SILVIO COSTA</td>\n",
              "      <td>1.048139e+10</td>\n",
              "      <td>4930.0</td>\n",
              "      <td>160.0</td>\n",
              "      <td>2007</td>\n",
              "      <td>PE</td>\n",
              "      <td>PTB</td>\n",
              "      <td>53</td>\n",
              "      <td>10</td>\n",
              "      <td>TELEFONIA</td>\n",
              "      <td>0</td>\n",
              "      <td>NaN</td>\n",
              "      <td>IMÓVEL FUNCIONAL</td>\n",
              "      <td>000.000.000/0000-3</td>\n",
              "      <td>3952163</td>\n",
              "      <td>0</td>\n",
              "      <td>2008-12-01T00:00:00</td>\n",
              "      <td>80.01</td>\n",
              "      <td>0.0</td>\n",
              "      <td>80.01</td>\n",
              "      <td>12</td>\n",
              "      <td>2008</td>\n",
              "      <td>0</td>\n",
              "      <td>NaN</td>\n",
              "      <td>NaN</td>\n",
              "      <td>0</td>\n",
              "      <td>0.0</td>\n",
              "      <td>NaN</td>\n",
              "      <td>1973</td>\n",
              "      <td>0</td>\n",
              "      <td>NaN</td>\n",
              "    </tr>\n",
              "    <tr>\n",
              "      <th>3</th>\n",
              "      <td>ALDO REBELO</td>\n",
              "      <td>1.641215e+10</td>\n",
              "      <td>73428.0</td>\n",
              "      <td>331.0</td>\n",
              "      <td>2007</td>\n",
              "      <td>SP</td>\n",
              "      <td>PCdoB</td>\n",
              "      <td>53</td>\n",
              "      <td>10</td>\n",
              "      <td>TELEFONIA</td>\n",
              "      <td>0</td>\n",
              "      <td>NaN</td>\n",
              "      <td>IMÓVEL FUNCIONAL</td>\n",
              "      <td>000.000.000/0000-3</td>\n",
              "      <td>3952163</td>\n",
              "      <td>0</td>\n",
              "      <td>2008-12-01T00:00:00</td>\n",
              "      <td>372.55</td>\n",
              "      <td>0.0</td>\n",
              "      <td>372.55</td>\n",
              "      <td>12</td>\n",
              "      <td>2008</td>\n",
              "      <td>0</td>\n",
              "      <td>NaN</td>\n",
              "      <td>NaN</td>\n",
              "      <td>0</td>\n",
              "      <td>0.0</td>\n",
              "      <td>NaN</td>\n",
              "      <td>764</td>\n",
              "      <td>0</td>\n",
              "      <td>NaN</td>\n",
              "    </tr>\n",
              "    <tr>\n",
              "      <th>4</th>\n",
              "      <td>ANTONIO CARLOS PANNUNZIO</td>\n",
              "      <td>1.895236e+10</td>\n",
              "      <td>73431.0</td>\n",
              "      <td>334.0</td>\n",
              "      <td>2007</td>\n",
              "      <td>SP</td>\n",
              "      <td>PSDB</td>\n",
              "      <td>53</td>\n",
              "      <td>10</td>\n",
              "      <td>TELEFONIA</td>\n",
              "      <td>0</td>\n",
              "      <td>NaN</td>\n",
              "      <td>IMÓVEL FUNCIONAL</td>\n",
              "      <td>000.000.000/0000-3</td>\n",
              "      <td>3952157</td>\n",
              "      <td>0</td>\n",
              "      <td>2008-03-10T00:00:00</td>\n",
              "      <td>38.48</td>\n",
              "      <td>0.0</td>\n",
              "      <td>38.48</td>\n",
              "      <td>3</td>\n",
              "      <td>2008</td>\n",
              "      <td>0</td>\n",
              "      <td>NaN</td>\n",
              "      <td>NaN</td>\n",
              "      <td>0</td>\n",
              "      <td>0.0</td>\n",
              "      <td>NaN</td>\n",
              "      <td>961</td>\n",
              "      <td>0</td>\n",
              "      <td>NaN</td>\n",
              "    </tr>\n",
              "  </tbody>\n",
              "</table>\n",
              "</div>"
            ],
            "text/plain": [
              "          txNomeParlamentar           cpf  ...  ideDocumento  urlDocumento\n",
              "0           JOSEPH BANDEIRA  7.251603e+09  ...       1612380           NaN\n",
              "1           JOSEPH BANDEIRA  7.251603e+09  ...       1561354           NaN\n",
              "2              SILVIO COSTA  1.048139e+10  ...             0           NaN\n",
              "3               ALDO REBELO  1.641215e+10  ...             0           NaN\n",
              "4  ANTONIO CARLOS PANNUNZIO  1.895236e+10  ...             0           NaN\n",
              "\n",
              "[5 rows x 31 columns]"
            ]
          },
          "metadata": {
            "tags": []
          },
          "execution_count": 20
        }
      ]
    },
    {
      "cell_type": "code",
      "metadata": {
        "id": "2dL8AKpc4xxh",
        "outputId": "edd81c2e-784f-4926-ca44-38b32ea169c7",
        "colab": {
          "base_uri": "https://localhost:8080/",
          "height": 297
        }
      },
      "source": [
        "df.describe()"
      ],
      "execution_count": 22,
      "outputs": [
        {
          "output_type": "execute_result",
          "data": {
            "text/html": [
              "<div>\n",
              "<style scoped>\n",
              "    .dataframe tbody tr th:only-of-type {\n",
              "        vertical-align: middle;\n",
              "    }\n",
              "\n",
              "    .dataframe tbody tr th {\n",
              "        vertical-align: top;\n",
              "    }\n",
              "\n",
              "    .dataframe thead th {\n",
              "        text-align: right;\n",
              "    }\n",
              "</style>\n",
              "<table border=\"1\" class=\"dataframe\">\n",
              "  <thead>\n",
              "    <tr style=\"text-align: right;\">\n",
              "      <th></th>\n",
              "      <th>cpf</th>\n",
              "      <th>ideCadastro</th>\n",
              "      <th>nuCarteiraParlamentar</th>\n",
              "      <th>nuLegislatura</th>\n",
              "      <th>codLegislatura</th>\n",
              "      <th>numSubCota</th>\n",
              "      <th>numEspecificacaoSubCota</th>\n",
              "      <th>indTipoDocumento</th>\n",
              "      <th>vlrDocumento</th>\n",
              "      <th>vlrGlosa</th>\n",
              "      <th>vlrLiquido</th>\n",
              "      <th>numMes</th>\n",
              "      <th>numAno</th>\n",
              "      <th>numParcela</th>\n",
              "      <th>numLote</th>\n",
              "      <th>numRessarcimento</th>\n",
              "      <th>vlrRestituicao</th>\n",
              "      <th>nuDeputadoId</th>\n",
              "      <th>ideDocumento</th>\n",
              "    </tr>\n",
              "  </thead>\n",
              "  <tbody>\n",
              "    <tr>\n",
              "      <th>count</th>\n",
              "      <td>3.992037e+06</td>\n",
              "      <td>3.992547e+06</td>\n",
              "      <td>3.992554e+06</td>\n",
              "      <td>3.998414e+06</td>\n",
              "      <td>3.998414e+06</td>\n",
              "      <td>3.998414e+06</td>\n",
              "      <td>3.998414e+06</td>\n",
              "      <td>3.998414e+06</td>\n",
              "      <td>3.998397e+06</td>\n",
              "      <td>3.998414e+06</td>\n",
              "      <td>3.998414e+06</td>\n",
              "      <td>3.998414e+06</td>\n",
              "      <td>3.998414e+06</td>\n",
              "      <td>3.998414e+06</td>\n",
              "      <td>3.998414e+06</td>\n",
              "      <td>1764928.0</td>\n",
              "      <td>1281.000000</td>\n",
              "      <td>3.998414e+06</td>\n",
              "      <td>3.998414e+06</td>\n",
              "    </tr>\n",
              "    <tr>\n",
              "      <th>mean</th>\n",
              "      <td>2.944292e+10</td>\n",
              "      <td>1.299843e+05</td>\n",
              "      <td>3.179452e+02</td>\n",
              "      <td>2.012667e+03</td>\n",
              "      <td>5.441671e+01</td>\n",
              "      <td>2.620337e+02</td>\n",
              "      <td>2.228571e-01</td>\n",
              "      <td>3.637155e-01</td>\n",
              "      <td>5.705637e+02</td>\n",
              "      <td>4.774147e+00</td>\n",
              "      <td>5.643444e+02</td>\n",
              "      <td>6.572801e+00</td>\n",
              "      <td>2.014214e+03</td>\n",
              "      <td>1.790710e-04</td>\n",
              "      <td>5.900197e+05</td>\n",
              "      <td>0.0</td>\n",
              "      <td>1018.067697</td>\n",
              "      <td>2.002435e+03</td>\n",
              "      <td>2.836101e+06</td>\n",
              "    </tr>\n",
              "    <tr>\n",
              "      <th>std</th>\n",
              "      <td>2.668915e+10</td>\n",
              "      <td>4.477751e+04</td>\n",
              "      <td>1.668467e+02</td>\n",
              "      <td>3.526589e+00</td>\n",
              "      <td>8.816471e-01</td>\n",
              "      <td>4.265354e+02</td>\n",
              "      <td>4.895413e-01</td>\n",
              "      <td>8.522620e-01</td>\n",
              "      <td>2.013935e+03</td>\n",
              "      <td>1.369971e+02</td>\n",
              "      <td>1.993868e+03</td>\n",
              "      <td>3.323367e+00</td>\n",
              "      <td>3.177270e+00</td>\n",
              "      <td>1.338054e-02</td>\n",
              "      <td>6.157066e+05</td>\n",
              "      <td>0.0</td>\n",
              "      <td>2906.378594</td>\n",
              "      <td>7.696064e+02</td>\n",
              "      <td>2.596573e+06</td>\n",
              "    </tr>\n",
              "    <tr>\n",
              "      <th>min</th>\n",
              "      <td>1.608657e+06</td>\n",
              "      <td>3.151000e+03</td>\n",
              "      <td>1.000000e+00</td>\n",
              "      <td>2.007000e+03</td>\n",
              "      <td>5.300000e+01</td>\n",
              "      <td>1.000000e+00</td>\n",
              "      <td>0.000000e+00</td>\n",
              "      <td>0.000000e+00</td>\n",
              "      <td>-2.097470e+04</td>\n",
              "      <td>0.000000e+00</td>\n",
              "      <td>-2.097470e+04</td>\n",
              "      <td>1.000000e+00</td>\n",
              "      <td>2.008000e+03</td>\n",
              "      <td>0.000000e+00</td>\n",
              "      <td>0.000000e+00</td>\n",
              "      <td>0.0</td>\n",
              "      <td>1.000000</td>\n",
              "      <td>1.200000e+01</td>\n",
              "      <td>0.000000e+00</td>\n",
              "    </tr>\n",
              "    <tr>\n",
              "      <th>25%</th>\n",
              "      <td>6.589236e+09</td>\n",
              "      <td>7.440500e+04</td>\n",
              "      <td>1.850000e+02</td>\n",
              "      <td>2.011000e+03</td>\n",
              "      <td>5.400000e+01</td>\n",
              "      <td>3.000000e+00</td>\n",
              "      <td>0.000000e+00</td>\n",
              "      <td>0.000000e+00</td>\n",
              "      <td>4.195000e+01</td>\n",
              "      <td>0.000000e+00</td>\n",
              "      <td>4.109000e+01</td>\n",
              "      <td>4.000000e+00</td>\n",
              "      <td>2.011000e+03</td>\n",
              "      <td>0.000000e+00</td>\n",
              "      <td>0.000000e+00</td>\n",
              "      <td>0.0</td>\n",
              "      <td>42.360000</td>\n",
              "      <td>1.563000e+03</td>\n",
              "      <td>0.000000e+00</td>\n",
              "    </tr>\n",
              "    <tr>\n",
              "      <th>50%</th>\n",
              "      <td>2.106286e+10</td>\n",
              "      <td>1.414880e+05</td>\n",
              "      <td>3.220000e+02</td>\n",
              "      <td>2.011000e+03</td>\n",
              "      <td>5.400000e+01</td>\n",
              "      <td>1.100000e+01</td>\n",
              "      <td>0.000000e+00</td>\n",
              "      <td>0.000000e+00</td>\n",
              "      <td>1.300000e+02</td>\n",
              "      <td>0.000000e+00</td>\n",
              "      <td>1.296500e+02</td>\n",
              "      <td>7.000000e+00</td>\n",
              "      <td>2.014000e+03</td>\n",
              "      <td>0.000000e+00</td>\n",
              "      <td>4.696660e+05</td>\n",
              "      <td>0.0</td>\n",
              "      <td>127.600000</td>\n",
              "      <td>1.944000e+03</td>\n",
              "      <td>1.830879e+06</td>\n",
              "    </tr>\n",
              "    <tr>\n",
              "      <th>75%</th>\n",
              "      <td>4.587748e+10</td>\n",
              "      <td>1.606530e+05</td>\n",
              "      <td>4.680000e+02</td>\n",
              "      <td>2.015000e+03</td>\n",
              "      <td>5.500000e+01</td>\n",
              "      <td>9.990000e+02</td>\n",
              "      <td>0.000000e+00</td>\n",
              "      <td>0.000000e+00</td>\n",
              "      <td>4.440700e+02</td>\n",
              "      <td>0.000000e+00</td>\n",
              "      <td>4.396600e+02</td>\n",
              "      <td>9.000000e+00</td>\n",
              "      <td>2.017000e+03</td>\n",
              "      <td>0.000000e+00</td>\n",
              "      <td>1.201217e+06</td>\n",
              "      <td>0.0</td>\n",
              "      <td>487.280000</td>\n",
              "      <td>2.409000e+03</td>\n",
              "      <td>5.710468e+06</td>\n",
              "    </tr>\n",
              "    <tr>\n",
              "      <th>max</th>\n",
              "      <td>9.989866e+10</td>\n",
              "      <td>2.153610e+05</td>\n",
              "      <td>6.740000e+02</td>\n",
              "      <td>2.019000e+03</td>\n",
              "      <td>5.600000e+01</td>\n",
              "      <td>9.990000e+02</td>\n",
              "      <td>4.000000e+00</td>\n",
              "      <td>4.000000e+00</td>\n",
              "      <td>2.150000e+05</td>\n",
              "      <td>8.600000e+04</td>\n",
              "      <td>2.150000e+05</td>\n",
              "      <td>1.200000e+01</td>\n",
              "      <td>2.021000e+03</td>\n",
              "      <td>1.000000e+00</td>\n",
              "      <td>1.749328e+06</td>\n",
              "      <td>0.0</td>\n",
              "      <td>73200.000000</td>\n",
              "      <td>3.480000e+03</td>\n",
              "      <td>7.162378e+06</td>\n",
              "    </tr>\n",
              "  </tbody>\n",
              "</table>\n",
              "</div>"
            ],
            "text/plain": [
              "                cpf   ideCadastro  ...  nuDeputadoId  ideDocumento\n",
              "count  3.992037e+06  3.992547e+06  ...  3.998414e+06  3.998414e+06\n",
              "mean   2.944292e+10  1.299843e+05  ...  2.002435e+03  2.836101e+06\n",
              "std    2.668915e+10  4.477751e+04  ...  7.696064e+02  2.596573e+06\n",
              "min    1.608657e+06  3.151000e+03  ...  1.200000e+01  0.000000e+00\n",
              "25%    6.589236e+09  7.440500e+04  ...  1.563000e+03  0.000000e+00\n",
              "50%    2.106286e+10  1.414880e+05  ...  1.944000e+03  1.830879e+06\n",
              "75%    4.587748e+10  1.606530e+05  ...  2.409000e+03  5.710468e+06\n",
              "max    9.989866e+10  2.153610e+05  ...  3.480000e+03  7.162378e+06\n",
              "\n",
              "[8 rows x 19 columns]"
            ]
          },
          "metadata": {
            "tags": []
          },
          "execution_count": 22
        }
      ]
    },
    {
      "cell_type": "code",
      "metadata": {
        "id": "kyCBdsFCJoyZ",
        "outputId": "36418233-dfde-4855-d2f2-b1b1cba3a87e",
        "colab": {
          "base_uri": "https://localhost:8080/"
        }
      },
      "source": [
        "df.dtypes"
      ],
      "execution_count": 38,
      "outputs": [
        {
          "output_type": "execute_result",
          "data": {
            "text/plain": [
              "txNomeParlamentar             object\n",
              "cpf                          float64\n",
              "ideCadastro                  float64\n",
              "nuCarteiraParlamentar        float64\n",
              "nuLegislatura                  int64\n",
              "sgUF                          object\n",
              "sgPartido                     object\n",
              "codLegislatura                 int64\n",
              "numSubCota                     int64\n",
              "txtDescricao                  object\n",
              "numEspecificacaoSubCota        int64\n",
              "txtDescricaoEspecificacao     object\n",
              "txtFornecedor                 object\n",
              "txtCNPJCPF                    object\n",
              "txtNumero                     object\n",
              "indTipoDocumento               int64\n",
              "datEmissao                    object\n",
              "vlrDocumento                 float64\n",
              "vlrGlosa                     float64\n",
              "vlrLiquido                   float64\n",
              "numMes                         int64\n",
              "numAno                         int64\n",
              "numParcela                     int64\n",
              "txtPassageiro                 object\n",
              "txtTrecho                     object\n",
              "numLote                        int64\n",
              "numRessarcimento             float64\n",
              "vlrRestituicao               float64\n",
              "nuDeputadoId                   int64\n",
              "ideDocumento                   int64\n",
              "urlDocumento                  object\n",
              "dtype: object"
            ]
          },
          "metadata": {
            "tags": []
          },
          "execution_count": 38
        }
      ]
    },
    {
      "cell_type": "code",
      "metadata": {
        "id": "zADLQv9j40ig",
        "outputId": "aacb92bd-abf9-47ef-e4f1-508b31463e79",
        "colab": {
          "base_uri": "https://localhost:8080/",
          "height": 737
        }
      },
      "source": [
        "df[['vlrDocumento']].groupby(df.txtDescricao).sum().round(1)"
      ],
      "execution_count": 54,
      "outputs": [
        {
          "output_type": "execute_result",
          "data": {
            "text/html": [
              "<div>\n",
              "<style scoped>\n",
              "    .dataframe tbody tr th:only-of-type {\n",
              "        vertical-align: middle;\n",
              "    }\n",
              "\n",
              "    .dataframe tbody tr th {\n",
              "        vertical-align: top;\n",
              "    }\n",
              "\n",
              "    .dataframe thead th {\n",
              "        text-align: right;\n",
              "    }\n",
              "</style>\n",
              "<table border=\"1\" class=\"dataframe\">\n",
              "  <thead>\n",
              "    <tr style=\"text-align: right;\">\n",
              "      <th></th>\n",
              "      <th>vlrDocumento</th>\n",
              "    </tr>\n",
              "    <tr>\n",
              "      <th>txtDescricao</th>\n",
              "      <th></th>\n",
              "    </tr>\n",
              "  </thead>\n",
              "  <tbody>\n",
              "    <tr>\n",
              "      <th>AQUISIÇÃO DE MATERIAL DE ESCRITÓRIO.</th>\n",
              "      <td>566669.7</td>\n",
              "    </tr>\n",
              "    <tr>\n",
              "      <th>AQUISIÇÃO OU LOC. DE SOFTWARE; SERV. POSTAIS; ASS.</th>\n",
              "      <td>989247.4</td>\n",
              "    </tr>\n",
              "    <tr>\n",
              "      <th>ASSINATURA DE PUBLICAÇÕES</th>\n",
              "      <td>2921841.0</td>\n",
              "    </tr>\n",
              "    <tr>\n",
              "      <th>COMBUSTÍVEIS E LUBRIFICANTES.</th>\n",
              "      <td>200144295.5</td>\n",
              "    </tr>\n",
              "    <tr>\n",
              "      <th>CONSULTORIAS, PESQUISAS E TRABALHOS TÉCNICOS.</th>\n",
              "      <td>223834479.1</td>\n",
              "    </tr>\n",
              "    <tr>\n",
              "      <th>DIVULGAÇÃO DA ATIVIDADE PARLAMENTAR.</th>\n",
              "      <td>513537118.4</td>\n",
              "    </tr>\n",
              "    <tr>\n",
              "      <th>FORNECIMENTO DE ALIMENTAÇÃO DO PARLAMENTAR</th>\n",
              "      <td>17195399.0</td>\n",
              "    </tr>\n",
              "    <tr>\n",
              "      <th>HOSPEDAGEM ,EXCETO DO PARLAMENTAR NO DISTRITO FEDERAL.</th>\n",
              "      <td>21550350.6</td>\n",
              "    </tr>\n",
              "    <tr>\n",
              "      <th>LOCAÇÃO DE VEÍCULOS AUTOMOTORES OU FRETAMENTO DE EMBARCAÇÕES</th>\n",
              "      <td>96343806.1</td>\n",
              "    </tr>\n",
              "    <tr>\n",
              "      <th>LOCAÇÃO OU FRETAMENTO DE AERONAVES</th>\n",
              "      <td>20664730.7</td>\n",
              "    </tr>\n",
              "    <tr>\n",
              "      <th>LOCAÇÃO OU FRETAMENTO DE EMBARCAÇÕES</th>\n",
              "      <td>1012173.8</td>\n",
              "    </tr>\n",
              "    <tr>\n",
              "      <th>LOCAÇÃO OU FRETAMENTO DE VEÍCULOS AUTOMOTORES</th>\n",
              "      <td>179931727.3</td>\n",
              "    </tr>\n",
              "    <tr>\n",
              "      <th>LOCOMOÇÃO, ALIMENTAÇÃO E  HOSPEDAGEM</th>\n",
              "      <td>5589552.6</td>\n",
              "    </tr>\n",
              "    <tr>\n",
              "      <th>MANUTENÇÃO DE ESCRITÓRIO DE APOIO À ATIVIDADE PARLAMENTAR</th>\n",
              "      <td>246273069.1</td>\n",
              "    </tr>\n",
              "    <tr>\n",
              "      <th>PARTICIPAÇÃO EM CURSO, PALESTRA OU EVENTO SIMILAR</th>\n",
              "      <td>603695.3</td>\n",
              "    </tr>\n",
              "    <tr>\n",
              "      <th>PASSAGEM AÉREA - REEMBOLSO</th>\n",
              "      <td>46272082.9</td>\n",
              "    </tr>\n",
              "    <tr>\n",
              "      <th>PASSAGEM AÉREA - RPA</th>\n",
              "      <td>447512868.9</td>\n",
              "    </tr>\n",
              "    <tr>\n",
              "      <th>PASSAGEM AÉREA - SIGEPA</th>\n",
              "      <td>89373.5</td>\n",
              "    </tr>\n",
              "    <tr>\n",
              "      <th>PASSAGENS TERRESTRES, MARÍTIMAS OU FLUVIAIS</th>\n",
              "      <td>644400.3</td>\n",
              "    </tr>\n",
              "    <tr>\n",
              "      <th>SERVIÇO DE SEGURANÇA PRESTADO POR EMPRESA ESPECIALIZADA.</th>\n",
              "      <td>15742550.3</td>\n",
              "    </tr>\n",
              "    <tr>\n",
              "      <th>SERVIÇO DE TÁXI, PEDÁGIO E ESTACIONAMENTO</th>\n",
              "      <td>5816252.9</td>\n",
              "    </tr>\n",
              "    <tr>\n",
              "      <th>SERVIÇOS POSTAIS</th>\n",
              "      <td>51436025.2</td>\n",
              "    </tr>\n",
              "    <tr>\n",
              "      <th>TELEFONIA</th>\n",
              "      <td>182668428.2</td>\n",
              "    </tr>\n",
              "  </tbody>\n",
              "</table>\n",
              "</div>"
            ],
            "text/plain": [
              "                                                    vlrDocumento\n",
              "txtDescricao                                                    \n",
              "AQUISIÇÃO DE MATERIAL DE ESCRITÓRIO.                    566669.7\n",
              "AQUISIÇÃO OU LOC. DE SOFTWARE; SERV. POSTAIS; ASS.      989247.4\n",
              "ASSINATURA DE PUBLICAÇÕES                              2921841.0\n",
              "COMBUSTÍVEIS E LUBRIFICANTES.                        200144295.5\n",
              "CONSULTORIAS, PESQUISAS E TRABALHOS TÉCNICOS.        223834479.1\n",
              "DIVULGAÇÃO DA ATIVIDADE PARLAMENTAR.                 513537118.4\n",
              "FORNECIMENTO DE ALIMENTAÇÃO DO PARLAMENTAR            17195399.0\n",
              "HOSPEDAGEM ,EXCETO DO PARLAMENTAR NO DISTRITO F...    21550350.6\n",
              "LOCAÇÃO DE VEÍCULOS AUTOMOTORES OU FRETAMENTO D...    96343806.1\n",
              "LOCAÇÃO OU FRETAMENTO DE AERONAVES                    20664730.7\n",
              "LOCAÇÃO OU FRETAMENTO DE EMBARCAÇÕES                   1012173.8\n",
              "LOCAÇÃO OU FRETAMENTO DE VEÍCULOS AUTOMOTORES        179931727.3\n",
              "LOCOMOÇÃO, ALIMENTAÇÃO E  HOSPEDAGEM                   5589552.6\n",
              "MANUTENÇÃO DE ESCRITÓRIO DE APOIO À ATIVIDADE P...   246273069.1\n",
              "PARTICIPAÇÃO EM CURSO, PALESTRA OU EVENTO SIMILAR       603695.3\n",
              "PASSAGEM AÉREA - REEMBOLSO                            46272082.9\n",
              "PASSAGEM AÉREA - RPA                                 447512868.9\n",
              "PASSAGEM AÉREA - SIGEPA                                  89373.5\n",
              "PASSAGENS TERRESTRES, MARÍTIMAS OU FLUVIAIS             644400.3\n",
              "SERVIÇO DE SEGURANÇA PRESTADO POR EMPRESA ESPEC...    15742550.3\n",
              "SERVIÇO DE TÁXI, PEDÁGIO E ESTACIONAMENTO              5816252.9\n",
              "SERVIÇOS POSTAIS                                      51436025.2\n",
              "TELEFONIA                                            182668428.2"
            ]
          },
          "metadata": {
            "tags": []
          },
          "execution_count": 54
        }
      ]
    },
    {
      "cell_type": "code",
      "metadata": {
        "id": "-GLBXpWwD4b3"
      },
      "source": [
        ""
      ],
      "execution_count": null,
      "outputs": []
    }
  ]
}